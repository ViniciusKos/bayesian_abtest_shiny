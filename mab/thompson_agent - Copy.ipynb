{
 "cells": [
  {
   "cell_type": "markdown",
   "metadata": {},
   "source": [
    "## Mean and variance of groups generations"
   ]
  },
  {
   "cell_type": "code",
   "execution_count": 5,
   "metadata": {},
   "outputs": [],
   "source": [
    "import numpy as np\n",
    "import matplotlib.pyplot as plt\n",
    "from scipy.stats import beta"
   ]
  },
  {
   "cell_type": "code",
   "execution_count": 67,
   "metadata": {},
   "outputs": [],
   "source": [
    "import numpy as np\n",
    "\n",
    "def reward_plot( success_array, failure_array ):\n",
    "    linestyle = [ \"-\", \"--\" ]\n",
    "\n",
    "    x = np.linspace( 0 ,1, 1002 )[1:-1]\n",
    "\n",
    "    plt.clf()\n",
    "    plt.xlim( 0, 1 )\n",
    "    plt.ylim( 0, 30)\n",
    "\n",
    "    for a, b, ls in zip( success_array, failure_array, linestyle ):\n",
    "        dist = beta( a, b )\n",
    "\n",
    "        plt.plot( x, dist.pdf( x ), ls=ls ,c='black', label=f\"Alpha:{a} Beta:{b}\")\n",
    "\n",
    "        plt.draw()\n",
    "        plt.pause( 0.01 )\n",
    "        plt.legend( loc=0 )\n",
    "\n",
    "\n",
    "\n",
    "\n",
    "class ThompsonAgent( object ):\n",
    "    def __init__( self, prob_list ):\n",
    "        self.prob_list = prob_list\n",
    "    \n",
    "    def pull( self, bandit_machine ):\n",
    "        if np.random.random() < self.prob_list[ bandit_machine ]:\n",
    "            reward = 1\n",
    "        else:\n",
    "            reward = 0\n",
    "\n",
    "        return reward"
   ]
  },
  {
   "cell_type": "code",
   "execution_count": 68,
   "metadata": {},
   "outputs": [],
   "source": [
    "prob_list = [ 0.25 , 0.50 ]\n",
    "trials = 1000\n",
    "episodes = 200\n",
    "eps_init = 1\n",
    "decay = 0.99\n",
    "\n",
    "eps_array = [ (eps_init*(1-decay))**i for i in range( trials ) ]"
   ]
  },
  {
   "cell_type": "code",
   "execution_count": 69,
   "metadata": {},
   "outputs": [],
   "source": [
    "bandit = ThompsonAgent( prob_list )\n",
    "\n",
    "prob_reward_array = np.zeros( len( prob_list ) )\n",
    "accumulated_reward_array = list()\n",
    "avg_accumulated_reward_array = list()\n",
    "\n",
    "for episode in range( episodes ):\n",
    "\n",
    "    success_array = np.ones( len( prob_list ) )\n",
    "    failure_array = np.full( len( prob_list ), 1.0e-5 )\n",
    "\n",
    "\n",
    "    reward_array = np.zeros( len( prob_list ) )\n",
    "    bandit_array = np.full( len( prob_list ), 1.0e-5)\n",
    "    accumulated_reward = 0\n",
    "\n",
    "    for trial in range( trials ):\n",
    "        #agent choose\n",
    "        prob_reward = np.random.beta( success_array, failure_array )\n",
    "        bandit_machine = np.argmax( prob_reward )\n",
    "\n",
    "        #agent reward\n",
    "        reward = bandit.pull( bandit_machine )\n",
    "\n",
    "        if reward == 1:\n",
    "            success_array[ bandit_machine ] += 1\n",
    "        else:\n",
    "            failure_array[ bandit_machine ] += 1\n",
    "\n",
    "        reward_plot( success_array, failure_array )\n",
    "\n",
    "        reward_array[ bandit_machine ] += reward\n",
    "        bandit_array[ bandit_machine ] += 1\n",
    "        accumulated_reward += reward\n",
    "\n",
    "    prob_reward_array += reward_array / bandit_array\n",
    "    accumulated_reward_array.append( accumulated_reward )\n",
    "    avg_accumulated_reward_array.append( np.mean( accumulated_reward_array ) )"
   ]
  },
  {
   "cell_type": "code",
   "execution_count": 70,
   "metadata": {},
   "outputs": [],
   "source": [
    "prob01 = 100*np.round( prob_reward_array[0] / episodes, 2)\n",
    "prob02 = 100*np.round( prob_reward_array[1] / episodes, 2)"
   ]
  },
  {
   "cell_type": "code",
   "execution_count": 71,
   "metadata": {},
   "outputs": [
    {
     "name": "stdout",
     "output_type": "stream",
     "text": [
      "Prob page 1 better: 18.0 %  Prob page 2 better: 14.000000000000002 % \n",
      "Avg acccumulated reward: 328.90216727830705\n"
     ]
    }
   ],
   "source": [
    "print( \"Prob page 1 better:\", prob01,\"% \", \"Prob page 2 better:\", prob02,\"% \")\n",
    "print( \"Avg acccumulated reward:\", np.mean( avg_accumulated_reward_array ) )"
   ]
  },
  {
   "cell_type": "code",
   "execution_count": null,
   "metadata": {},
   "outputs": [],
   "source": []
  }
 ],
 "metadata": {
  "kernelspec": {
   "display_name": "bayesian_env",
   "language": "python",
   "name": "python3"
  },
  "language_info": {
   "codemirror_mode": {
    "name": "ipython",
    "version": 3
   },
   "file_extension": ".py",
   "mimetype": "text/x-python",
   "name": "python",
   "nbconvert_exporter": "python",
   "pygments_lexer": "ipython3",
   "version": "3.10.4"
  },
  "orig_nbformat": 4,
  "vscode": {
   "interpreter": {
    "hash": "32e9215ce98cd27798988c7873799595e1e95c56a1d150eafb7c93f490c8f63b"
   }
  }
 },
 "nbformat": 4,
 "nbformat_minor": 2
}

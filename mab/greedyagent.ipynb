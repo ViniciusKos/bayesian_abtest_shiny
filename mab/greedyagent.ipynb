{
 "cells": [
  {
   "cell_type": "markdown",
   "metadata": {},
   "source": [
    "## Mean and variance of groups generations"
   ]
  },
  {
   "cell_type": "code",
   "execution_count": 161,
   "metadata": {},
   "outputs": [],
   "source": [
    "import numpy as np\n",
    "\n",
    "class GreedyAgent( object ):\n",
    "    def __init__( self, prob_list ):\n",
    "        self.prob_list = prob_list\n",
    "    \n",
    "    def pull( self, bandit_machine ):\n",
    "        if np.random.random() < self.prob_list[ bandit_machine ]:\n",
    "            reward = 1\n",
    "        else:\n",
    "            reward = 0\n",
    "\n",
    "        return reward"
   ]
  },
  {
   "cell_type": "code",
   "execution_count": 162,
   "metadata": {},
   "outputs": [],
   "source": [
    "prob_list = [ 0.25 , 0.50 ]\n",
    "trials = 1000\n",
    "episodes = 200\n",
    "eps_init = 0"
   ]
  },
  {
   "cell_type": "code",
   "execution_count": 163,
   "metadata": {},
   "outputs": [],
   "source": [
    "bandit = GreedyAgent( prob_list )\n",
    "\n",
    "prob_reward_array = np.zeros( len( prob_list ) )\n",
    "accumulated_reward_array = list()\n",
    "avg_accumulated_reward_array = list()\n",
    "\n",
    "for episode in range( episodes ):\n",
    "    reward_array = np.zeros( len( prob_list ) )\n",
    "    bandit_array = np.full( len( prob_list ), 1.0e-5)\n",
    "    accumulated_reward = 0\n",
    "\n",
    "    for trial in range( trials ):\n",
    "        if eps_init == 0:\n",
    "            bandit_machine = 0\n",
    "        elif eps_init == 1:\n",
    "            bandit_machine = 1\n",
    "        elif eps_init == 2:\n",
    "            prob_reward = reward_array / bandit_array\n",
    "            max_prob_reward = np.where( prob_reward == np.max( prob_reward) )[0]\n",
    "            bandit_machine = max_prob_reward[0]\n",
    "        else:\n",
    "            eps_init += 1\n",
    "\n",
    "        eps_init += 1\n",
    "        reward = bandit.pull( bandit_machine )\n",
    "        reward_array[ bandit_machine ] += reward\n",
    "        bandit_array[ bandit_machine ] += 1\n",
    "        accumulated_reward += reward\n",
    "\n",
    "    prob_reward_array += reward_array / bandit_array\n",
    "    accumulated_reward_array.append( accumulated_reward )\n",
    "    avg_accumulated_reward_array.append( np.mean( accumulated_reward_array ) )"
   ]
  },
  {
   "cell_type": "code",
   "execution_count": 164,
   "metadata": {},
   "outputs": [],
   "source": [
    "prob01 = 100*np.round( prob_reward_array[0] / episodes, 2)\n",
    "prob02 = 100*np.round( prob_reward_array[1] / episodes, 2)"
   ]
  },
  {
   "cell_type": "code",
   "execution_count": 165,
   "metadata": {},
   "outputs": [
    {
     "name": "stdout",
     "output_type": "stream",
     "text": [
      "25.0 0.0\n",
      "249.20625189708818\n"
     ]
    }
   ],
   "source": [
    "print( prob01, prob02)\n",
    "print( np.mean( avg_accumulated_reward_array ) )"
   ]
  },
  {
   "cell_type": "code",
   "execution_count": null,
   "metadata": {},
   "outputs": [],
   "source": []
  }
 ],
 "metadata": {
  "kernelspec": {
   "display_name": "bayesian_env",
   "language": "python",
   "name": "python3"
  },
  "language_info": {
   "codemirror_mode": {
    "name": "ipython",
    "version": 3
   },
   "file_extension": ".py",
   "mimetype": "text/x-python",
   "name": "python",
   "nbconvert_exporter": "python",
   "pygments_lexer": "ipython3",
   "version": "3.10.4"
  },
  "orig_nbformat": 4,
  "vscode": {
   "interpreter": {
    "hash": "32e9215ce98cd27798988c7873799595e1e95c56a1d150eafb7c93f490c8f63b"
   }
  }
 },
 "nbformat": 4,
 "nbformat_minor": 2
}
